{
 "cells": [
  {
   "cell_type": "code",
   "execution_count": 14,
   "metadata": {},
   "outputs": [],
   "source": [
    "import math\n",
    "import numpy as np"
   ]
  },
  {
   "cell_type": "markdown",
   "metadata": {},
   "source": [
    "y=wx+b"
   ]
  },
  {
   "cell_type": "code",
   "execution_count": 36,
   "metadata": {},
   "outputs": [],
   "source": [
    "def sigmoid(z):\n",
    "    return 1/(1+pow(math.e,-z))\n",
    "class Network():\n",
    "    def __init__(self):\n",
    "        self.w=-1\n",
    "        self.b=2\n",
    "    def y(self,x):\n",
    "        return self.w * x + self.b"
   ]
  },
  {
   "cell_type": "code",
   "execution_count": 13,
   "metadata": {},
   "outputs": [
    {
     "data": {
      "text/plain": [
       "5"
      ]
     },
     "execution_count": 13,
     "metadata": {},
     "output_type": "execute_result"
    }
   ],
   "source": [
    "nat = Network()\n",
    "nat.y(3)"
   ]
  },
  {
   "cell_type": "code",
   "execution_count": 34,
   "metadata": {},
   "outputs": [
    {
     "data": {
      "text/plain": [
       "array([[-0.22720189],\n",
       "       [ 2.37162511],\n",
       "       [ 0.15055899]])"
      ]
     },
     "execution_count": 34,
     "metadata": {},
     "output_type": "execute_result"
    }
   ],
   "source": [
    "w=np.random.randn(3,1)\n",
    "w"
   ]
  },
  {
   "cell_type": "code",
   "execution_count": 37,
   "metadata": {},
   "outputs": [],
   "source": [
    "class Network1():\n",
    "    def __init__(self,n):\n",
    "        self.w=np.random.randn(n,1)\n",
    "        self.b=2\n",
    "        self.n=n\n",
    "    def y(self,x):\n",
    "        return sigmoid(self.w * x + self.b)"
   ]
  },
  {
   "cell_type": "code",
   "execution_count": 38,
   "metadata": {},
   "outputs": [
    {
     "name": "stdout",
     "output_type": "stream",
     "text": [
      "[[ 0.79292961]\n",
      " [-1.42427364]\n",
      " [-0.49960042]\n",
      " [ 0.26516403]\n",
      " [-0.1897468 ]]\n",
      "2\n"
     ]
    },
    {
     "data": {
      "text/plain": [
       "array([[0.94229256],\n",
       "       [0.29973769],\n",
       "       [0.622741  ],\n",
       "       [0.95524036],\n",
       "       [0.74101793]])"
      ]
     },
     "execution_count": 38,
     "metadata": {},
     "output_type": "execute_result"
    }
   ],
   "source": [
    "nat = Network1(5)\n",
    "print(nat.w)\n",
    "print(nat.b)\n",
    "nat.y([[1],[2],[3],[4],[5]])"
   ]
  },
  {
   "cell_type": "code",
   "execution_count": 42,
   "metadata": {},
   "outputs": [
    {
     "data": {
      "text/plain": [
       "[[1], [2], [3], [4], [5]]"
      ]
     },
     "execution_count": 42,
     "metadata": {},
     "output_type": "execute_result"
    }
   ],
   "source": [
    "[[1],[2],[3],[4],[5]]"
   ]
  },
  {
   "cell_type": "code",
   "execution_count": 46,
   "metadata": {},
   "outputs": [],
   "source": [
    "class Network2():\n",
    "    def __init__(self,n,m):\n",
    "        self.w=np.random.randn(m,n)\n",
    "        self.b=np.random.randn(m,1)\n",
    "        self.n=n\n",
    "        self.m=m\n",
    "    def y(self,x):\n",
    "        return sigmoid(np.matmul(self.w, x )+ self.b)"
   ]
  },
  {
   "cell_type": "code",
   "execution_count": 47,
   "metadata": {},
   "outputs": [
    {
     "name": "stdout",
     "output_type": "stream",
     "text": [
      "[[-2.4240211  -1.41958593  0.13982756 -0.72078703  0.77801648]\n",
      " [-0.39175795  0.34368835  0.86690947 -0.46772299  1.6497625 ]\n",
      " [ 0.29260163  0.59670241  0.88744619 -0.53636444  0.2672696 ]]\n",
      "[[-0.97136014]\n",
      " [-0.50009733]\n",
      " [ 0.75950926]]\n"
     ]
    },
    {
     "data": {
      "text/plain": [
       "array([[0.00809696],\n",
       "       [0.99984535],\n",
       "       [0.98367735]])"
      ]
     },
     "execution_count": 47,
     "metadata": {},
     "output_type": "execute_result"
    }
   ],
   "source": [
    "nat = Network2(5,3)\n",
    "print(nat.w)\n",
    "print(nat.b)\n",
    "nat.y([[1],[2],[3],[4],[5]])"
   ]
  },
  {
   "cell_type": "code",
   "execution_count": 49,
   "metadata": {},
   "outputs": [],
   "source": [
    "layer1 = Network2(5,3)\n",
    "layer2 = Network2(3,1)\n",
    "output=layer2.y(layer1.y([[1],[2],[3],[4],[5]]))"
   ]
  },
  {
   "cell_type": "code",
   "execution_count": 50,
   "metadata": {},
   "outputs": [
    {
     "data": {
      "text/plain": [
       "array([[0.90842426]])"
      ]
     },
     "execution_count": 50,
     "metadata": {},
     "output_type": "execute_result"
    }
   ],
   "source": [
    "output"
   ]
  },
  {
   "cell_type": "code",
   "execution_count": 51,
   "metadata": {},
   "outputs": [],
   "source": [
    "class Network3():\n",
    "    def __init__(self,n,m):\n",
    "        self.w=np.random.randn(m,n)\n",
    "        self.b=np.random.randn(m,1)\n",
    "        self.n=n\n",
    "        self.m=m\n",
    "    def __call__(self,x):\n",
    "        return sigmoid(np.matmul(self.w, x )+ self.b)"
   ]
  },
  {
   "cell_type": "code",
   "execution_count": 52,
   "metadata": {},
   "outputs": [],
   "source": [
    "layer1 = Network3(5,3)\n",
    "layer2 = Network3(3,1)\n",
    "output=layer2(layer1([[1],[2],[3],[4],[5]]))"
   ]
  },
  {
   "cell_type": "code",
   "execution_count": 53,
   "metadata": {},
   "outputs": [
    {
     "data": {
      "text/plain": [
       "array([[0.8412023]])"
      ]
     },
     "execution_count": 53,
     "metadata": {},
     "output_type": "execute_result"
    }
   ],
   "source": [
    "output"
   ]
  },
  {
   "cell_type": "code",
   "execution_count": null,
   "metadata": {},
   "outputs": [],
   "source": [
    "class Network4():\n",
    "    def __init__(self,sizes):\n",
    "        self.sizes=sizes\n",
    "        w_list=[]\n",
    "        for i in range(len(sizes)-1):\n",
    "            w_list.append(np.random.randn(sizes[i+1],sizes[i]))\n",
    "        self.w=np.random.randn(m,n)\n",
    "        self.b=np.random.randn(m,1)\n",
    "        self.n=n\n",
    "        self.m=m\n",
    "    def __call__(self,x):\n",
    "        return sigmoid(np.matmul(self.w, x )+ self.b)"
   ]
  }
 ],
 "metadata": {
  "kernelspec": {
   "display_name": "Python 3",
   "language": "python",
   "name": "python3"
  },
  "language_info": {
   "codemirror_mode": {
    "name": "ipython",
    "version": 3
   },
   "file_extension": ".py",
   "mimetype": "text/x-python",
   "name": "python",
   "nbconvert_exporter": "python",
   "pygments_lexer": "ipython3",
   "version": "3.7.3"
  }
 },
 "nbformat": 4,
 "nbformat_minor": 2
}
